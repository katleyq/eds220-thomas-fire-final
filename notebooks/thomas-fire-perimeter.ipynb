{
 "cells": [
  {
   "cell_type": "markdown",
   "id": "56e080c2-e060-4e6a-9eaf-44dcd57f0437",
   "metadata": {},
   "source": [
    "# Exploring Thomas Fire Using California Fire Perimeter data\n",
    "\n",
    "**Author**: Kat Le\n",
    "\n",
    "**Github Repository**: https://github.com/katleyq/eds220-hwk4\n",
    "\n",
    "### About this notebook\n",
    "\n",
    "The purpose of this notebook is to obtain the offical 2017 Thomas Fire perimeter polygon from the California Fire Perimeter dataset. The resulting spatial object is saved to the data folder of this repository to be used for future analysis in `hwk4-task2-false-color-LE.ipynb`.\n",
    "\n",
    "### Highlights\n",
    "This notebook will demonstrate the following:\n",
    "- Exploration of CALFIRE fire perimeters data \n",
    "- Filter fire perimeter dataset for area of interest\n",
    "- Saving output of analysis as a spatial data file\n",
    "\n",
    "\n",
    "### Data Access\n",
    "**California Fire Perimeter Data**: This data was retrieved from US governement's data catalogue on November 18, 2024. Original Source: [California Fire Perimeter Data](https://catalog.data.gov/dataset/california-fire-perimeters-all-b3436)\n",
    "- **Description**: This dataset contains geospatial information for all fire perimeters within California from 1898 to 2023. This dataset is maintained by the California Department of Forestry and Fire Protection (CAL FIRE). The purpose of this dataset is to track the frequency and extent of fire boundaries across time. It also serves as an important resource for researchers and policymakers.\n"
   ]
  },
  {
   "cell_type": "markdown",
   "id": "12834cc1-061b-4a48-8b71-26d1c919fd2a",
   "metadata": {},
   "source": [
    "### Import libraries and load data"
   ]
  },
  {
   "cell_type": "code",
   "execution_count": 1,
   "id": "0ec39bb9-243d-4c76-84b9-4f7698d7d160",
   "metadata": {
    "tags": []
   },
   "outputs": [],
   "source": [
    "import os\n",
    "import pandas as pd # To work with data frames\n",
    "import geopandas as gpd # To maniplate spatial data frames\n",
    "from shapely.geometry import box  # To create polygon bounding box\n",
    "import matplotlib.pyplot as plt # To plot spatial data\n",
    "from matplotlib_scalebar.scalebar import ScaleBar # for map scalebar\n",
    "import matplotlib.patches as mpatches # for map legend\n",
    "from matplotlib.offsetbox import AnchoredText # for map compass\n",
    "\n",
    "\"\"\"\n",
    "Set environment variable 'PROJ_LIB' to specify the path for the PROJ library\n",
    "Resolves ERROR 1: PROJ: proj_create_from_database\n",
    "\"\"\"\"\"\n",
    "os.environ['PROJ_LIB'] = '/opt/anaconda3/share/proj'\n",
    "\n",
    "# Set options to display all columns when viewing\n",
    "pd.set_option(\"display.max.columns\", None)"
   ]
  },
  {
   "cell_type": "markdown",
   "id": "4269642d-e213-4860-bc22-81e246d859a0",
   "metadata": {},
   "source": [
    "### Read in California Fire Perimeter spatial data"
   ]
  },
  {
   "cell_type": "code",
   "execution_count": 2,
   "id": "9f45b8e6-0345-47a9-a294-cabcf74a7886",
   "metadata": {
    "tags": []
   },
   "outputs": [],
   "source": [
    "# Create path to repository data folder\n",
    "data_folder_fp = os.path.join(#'/',\n",
    "                              #'Users',\n",
    "                              #'katherine', \n",
    "                              #'MEDS',\n",
    "                              #'EDS-220',\n",
    "                              #'eds220-hwk4',\n",
    "                              'data')\n",
    "\n",
    "# Load California Fire Perimeter shapefile\n",
    "df = gpd.read_file(f\"{data_folder_fp}/California_Fire_Perimeters/California_Fire_Perimeters.shp\")"
   ]
  },
  {
   "cell_type": "markdown",
   "id": "f57a4423-9017-4ab1-be34-8a57ac848ea9",
   "metadata": {},
   "source": [
    "### Preliminary Fire Perimeter Data Exploration\n",
    "As with any data object, it is important to explore your data to see if it is what you expected. In this section, we'll look at the head, date range, shape, and CRS of the dataframe. We'll also want to see if this data is projected or geographic. "
   ]
  },
  {
   "cell_type": "code",
   "execution_count": 3,
   "id": "a96c2bb9-f1d9-40f0-af6f-0cc0698d6f05",
   "metadata": {
    "tags": []
   },
   "outputs": [
    {
     "data": {
      "text/html": [
       "<div>\n",
       "<style scoped>\n",
       "    .dataframe tbody tr th:only-of-type {\n",
       "        vertical-align: middle;\n",
       "    }\n",
       "\n",
       "    .dataframe tbody tr th {\n",
       "        vertical-align: top;\n",
       "    }\n",
       "\n",
       "    .dataframe thead th {\n",
       "        text-align: right;\n",
       "    }\n",
       "</style>\n",
       "<table border=\"1\" class=\"dataframe\">\n",
       "  <thead>\n",
       "    <tr style=\"text-align: right;\">\n",
       "      <th></th>\n",
       "      <th>YEAR_</th>\n",
       "      <th>STATE</th>\n",
       "      <th>AGENCY</th>\n",
       "      <th>UNIT_ID</th>\n",
       "      <th>FIRE_NAME</th>\n",
       "      <th>INC_NUM</th>\n",
       "      <th>ALARM_DATE</th>\n",
       "      <th>CONT_DATE</th>\n",
       "      <th>CAUSE</th>\n",
       "      <th>C_METHOD</th>\n",
       "      <th>OBJECTIVE</th>\n",
       "      <th>GIS_ACRES</th>\n",
       "      <th>COMMENTS</th>\n",
       "      <th>COMPLEX_NA</th>\n",
       "      <th>IRWINID</th>\n",
       "      <th>FIRE_NUM</th>\n",
       "      <th>COMPLEX_ID</th>\n",
       "      <th>DECADES</th>\n",
       "      <th>geometry</th>\n",
       "    </tr>\n",
       "  </thead>\n",
       "  <tbody>\n",
       "    <tr>\n",
       "      <th>0</th>\n",
       "      <td>2023</td>\n",
       "      <td>CA</td>\n",
       "      <td>CDF</td>\n",
       "      <td>SKU</td>\n",
       "      <td>WHITWORTH</td>\n",
       "      <td>00004808</td>\n",
       "      <td>2023-06-17</td>\n",
       "      <td>2023-06-17</td>\n",
       "      <td>5</td>\n",
       "      <td>1</td>\n",
       "      <td>1</td>\n",
       "      <td>5.72913</td>\n",
       "      <td>None</td>\n",
       "      <td>None</td>\n",
       "      <td>{7985848C-0AC2-4BA4-8F0E-29F778652E61}</td>\n",
       "      <td>None</td>\n",
       "      <td>None</td>\n",
       "      <td>2020</td>\n",
       "      <td>POLYGON ((-13682443.000 5091132.739, -13682445...</td>\n",
       "    </tr>\n",
       "    <tr>\n",
       "      <th>1</th>\n",
       "      <td>2023</td>\n",
       "      <td>CA</td>\n",
       "      <td>LRA</td>\n",
       "      <td>BTU</td>\n",
       "      <td>KAISER</td>\n",
       "      <td>00010225</td>\n",
       "      <td>2023-06-02</td>\n",
       "      <td>2023-06-02</td>\n",
       "      <td>5</td>\n",
       "      <td>1</td>\n",
       "      <td>1</td>\n",
       "      <td>13.60240</td>\n",
       "      <td>None</td>\n",
       "      <td>None</td>\n",
       "      <td>{43EBCC88-B3AC-48EB-8EF5-417FE0939CCF}</td>\n",
       "      <td>None</td>\n",
       "      <td>None</td>\n",
       "      <td>2020</td>\n",
       "      <td>POLYGON ((-13576727.142 4841226.161, -13576726...</td>\n",
       "    </tr>\n",
       "    <tr>\n",
       "      <th>2</th>\n",
       "      <td>2023</td>\n",
       "      <td>CA</td>\n",
       "      <td>CDF</td>\n",
       "      <td>AEU</td>\n",
       "      <td>JACKSON</td>\n",
       "      <td>00017640</td>\n",
       "      <td>2023-07-01</td>\n",
       "      <td>2023-07-02</td>\n",
       "      <td>2</td>\n",
       "      <td>1</td>\n",
       "      <td>1</td>\n",
       "      <td>27.81450</td>\n",
       "      <td>None</td>\n",
       "      <td>None</td>\n",
       "      <td>{B64E1355-BF1D-441A-95D0-BC1FBB93483B}</td>\n",
       "      <td>None</td>\n",
       "      <td>None</td>\n",
       "      <td>2020</td>\n",
       "      <td>POLYGON ((-13459243.000 4621236.000, -13458968...</td>\n",
       "    </tr>\n",
       "  </tbody>\n",
       "</table>\n",
       "</div>"
      ],
      "text/plain": [
       "   YEAR_ STATE AGENCY UNIT_ID  FIRE_NAME   INC_NUM  ALARM_DATE   CONT_DATE  \\\n",
       "0   2023    CA    CDF     SKU  WHITWORTH  00004808  2023-06-17  2023-06-17   \n",
       "1   2023    CA    LRA     BTU     KAISER  00010225  2023-06-02  2023-06-02   \n",
       "2   2023    CA    CDF     AEU    JACKSON  00017640  2023-07-01  2023-07-02   \n",
       "\n",
       "   CAUSE  C_METHOD  OBJECTIVE  GIS_ACRES COMMENTS COMPLEX_NA  \\\n",
       "0      5         1          1    5.72913     None       None   \n",
       "1      5         1          1   13.60240     None       None   \n",
       "2      2         1          1   27.81450     None       None   \n",
       "\n",
       "                                  IRWINID FIRE_NUM COMPLEX_ID  DECADES  \\\n",
       "0  {7985848C-0AC2-4BA4-8F0E-29F778652E61}     None       None     2020   \n",
       "1  {43EBCC88-B3AC-48EB-8EF5-417FE0939CCF}     None       None     2020   \n",
       "2  {B64E1355-BF1D-441A-95D0-BC1FBB93483B}     None       None     2020   \n",
       "\n",
       "                                            geometry  \n",
       "0  POLYGON ((-13682443.000 5091132.739, -13682445...  \n",
       "1  POLYGON ((-13576727.142 4841226.161, -13576726...  \n",
       "2  POLYGON ((-13459243.000 4621236.000, -13458968...  "
      ]
     },
     "execution_count": 3,
     "metadata": {},
     "output_type": "execute_result"
    }
   ],
   "source": [
    "# Display head of data frame\n",
    "df.head(3)"
   ]
  },
  {
   "cell_type": "code",
   "execution_count": 15,
   "id": "041dba28-4e2c-4ecf-b9c0-9a48163d95d8",
   "metadata": {
    "tags": []
   },
   "outputs": [
    {
     "name": "stdout",
     "output_type": "stream",
     "text": [
      "Date range: 1898-04-01 to 2023-12-22\n"
     ]
    }
   ],
   "source": [
    "# Print the date range of the ALARM_DATE \n",
    "print(f\"Date range: {df['ALARM_DATE'].min()} to {df['ALARM_DATE'].max()}\")"
   ]
  },
  {
   "cell_type": "code",
   "execution_count": 4,
   "id": "f18c2b11-696f-4f77-916b-7310735b3c45",
   "metadata": {},
   "outputs": [
    {
     "data": {
      "text/plain": [
       "(22261, 19)"
      ]
     },
     "execution_count": 4,
     "metadata": {},
     "output_type": "execute_result"
    }
   ],
   "source": [
    "# Display shape\n",
    "df.shape"
   ]
  },
  {
   "cell_type": "code",
   "execution_count": 5,
   "id": "ea7dd6e2-a37e-497a-95f8-2402b4561e77",
   "metadata": {
    "tags": []
   },
   "outputs": [
    {
     "data": {
      "text/plain": [
       "<Projected CRS: PROJCS[\"WGS_1984_Web_Mercator_Auxiliary_Sphere\",GE ...>\n",
       "Name: WGS_1984_Web_Mercator_Auxiliary_Sphere\n",
       "Axis Info [cartesian]:\n",
       "- [east]: Easting (Meter)\n",
       "- [north]: Northing (Meter)\n",
       "Area of Use:\n",
       "- undefined\n",
       "Coordinate Operation:\n",
       "- name: unnamed\n",
       "- method: Popular Visualisation Pseudo Mercator\n",
       "Datum: World Geodetic System 1984\n",
       "- Ellipsoid: WGS 84\n",
       "- Prime Meridian: Greenwich"
      ]
     },
     "execution_count": 5,
     "metadata": {},
     "output_type": "execute_result"
    }
   ],
   "source": [
    "# Display crs of df\n",
    "df.crs"
   ]
  },
  {
   "cell_type": "code",
   "execution_count": 13,
   "id": "98a81b18-41f8-4031-88b5-6d33bf392c22",
   "metadata": {
    "tags": []
   },
   "outputs": [
    {
     "name": "stdout",
     "output_type": "stream",
     "text": [
      "Is this data projected? True\n",
      "Is this data geographic? False\n"
     ]
    }
   ],
   "source": [
    "print(f\"Is this data projected? {df.crs.is_projected}\")\n",
    "print(f\"Is this data geographic? {df.crs.is_geographic}\")"
   ]
  },
  {
   "cell_type": "markdown",
   "id": "b9560736-d8ab-499e-8d2b-a2d9d7844227",
   "metadata": {},
   "source": [
    "**Results**\n",
    "\n",
    "From this prelimary data exploration, we find that this dataset contains polygons of all California fires from 1898 to 2023. There have been 22,261 fires that are recorded in this dataset. The CRS of this dataset is WGS 84, and it is projected - not geographic."
   ]
  },
  {
   "cell_type": "markdown",
   "id": "bd662274-9a1f-459b-a685-49c990c722c0",
   "metadata": {},
   "source": [
    "### Thomas Fire Boundary\n",
    "\n",
    "Since the dataset above contains all California Fires, we'll want to subset for just the Thomas Fire. There have been multiple fires that have been named Thomas, so we'll want to specifically choose the one that occurred in 2017. Then we'll plot it just to see the Thomas Fire perimeter."
   ]
  },
  {
   "cell_type": "code",
   "execution_count": 7,
   "id": "c4e6b388-8ce9-4709-b51b-eea80b6492e8",
   "metadata": {
    "tags": []
   },
   "outputs": [],
   "source": [
    "# Filter df for observation where fire name is \"THOMAS\" and year is 2017 since there are other fires named Thomas\n",
    "thomas_fire = df.loc[(df['FIRE_NAME'] == 'THOMAS') & (df['YEAR_'] == 2017)]"
   ]
  },
  {
   "cell_type": "code",
   "execution_count": 16,
   "id": "1e0eb7ab-72d6-4bc8-870a-c46cddc5735d",
   "metadata": {
    "tags": []
   },
   "outputs": [
    {
     "data": {
      "text/plain": [
       "Text(0.5, 0, 'Figure 1: This is a polygon of the 2017 Thomas Fire perimeter.')"
      ]
     },
     "execution_count": 16,
     "metadata": {},
     "output_type": "execute_result"
    },
    {
     "data": {
      "image/png": "[encoded data removed]",
      "text/plain": [
       "<Figure size 800x600 with 1 Axes>"
      ]
     },
     "metadata": {},
     "output_type": "display_data"
    }
   ],
   "source": [
    "# Initialize plot\n",
    "fig, ax = plt.subplots(figsize=(8, 6))\n",
    "\n",
    "# Turn off the axes\n",
    "ax.axis('off')\n",
    "\n",
    "# Plot the GeoDataFrame with the desired styling\n",
    "thomas_fire.plot(ax=ax, color='orange', edgecolor='orange')\n",
    "\n",
    "# Add title\n",
    "ax.set_title('2017 Thomas Fire Boundary')\n",
    "\n",
    "# Add figure description\n",
    "plt.figtext(0.5, 0, \"Figure 1: This is a polygon of the 2017 Thomas Fire perimeter.\", wrap=True, horizontalalignment='center', fontsize=10)\n"
   ]
  },
  {
   "cell_type": "code",
   "execution_count": 10,
   "id": "d049ab2c-5543-4a29-8194-cd99d721cf3e",
   "metadata": {
    "tags": []
   },
   "outputs": [],
   "source": [
    "# Save file to data folder\n",
    "thomas_fire.to_file('data/thomas_fire.shp')"
   ]
  },
  {
   "cell_type": "markdown",
   "id": "45e93097-02d4-46ce-8689-24e785679a01",
   "metadata": {},
   "source": [
    "**Reasoning for output file**\n",
    "\n",
    "I decided to save the Thomas Fire Boundary as a shapefile for consistency since I downloaded the original California Fire Perimeter data as a shapefile. "
   ]
  }
 ],
 "metadata": {
  "kernelspec": {
   "display_name": "Anaconda 3 (EDS220)",
   "language": "python",
   "name": "eds220-env"
  },
  "language_info": {
   "codemirror_mode": {
    "name": "ipython",
    "version": 3
   },
   "file_extension": ".py",
   "mimetype": "text/x-python",
   "name": "python",
   "nbconvert_exporter": "python",
   "pygments_lexer": "ipython3",
   "version": "3.11.4"
  }
 },
 "nbformat": 4,
 "nbformat_minor": 5
}
